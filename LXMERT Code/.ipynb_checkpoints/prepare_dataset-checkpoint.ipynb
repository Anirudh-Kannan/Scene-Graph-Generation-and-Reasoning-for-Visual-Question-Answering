{
 "cells": [
  {
   "cell_type": "code",
   "execution_count": 1,
   "metadata": {},
   "outputs": [],
   "source": [
    "import json\n",
    "import os \n",
    "import spacy\n",
    "nlp = spacy.load('en_core_web_sm')\n",
    "import nltk\n",
    "from nltk.tokenize import word_tokenize\n",
    "import copy\n",
    "from tqdm import tqdm"
   ]
  },
  {
   "cell_type": "code",
   "execution_count": null,
   "metadata": {},
   "outputs": [],
   "source": [
    "label2ans = pd.read_pickle(\"/home/sakter/courses/mmml_project/second_assignment/dataset/gqa/raw/trainval_label2ans.json\")\n",
    "ans2label = pd.read_pickle(\"/home/sakter/courses/mmml_project/second_assignment/dataset/gqa/raw/trainval_ans2label.json\")"
   ]
  },
  {
   "cell_type": "code",
   "execution_count": 2,
   "metadata": {},
   "outputs": [],
   "source": [
    "def generate_dataset_lxmert(path):\n",
    "    head = '/home/sakter/courses/mmml_project/second_assignment/dataset/gqa/raw/'\n",
    "    with open(head+path) as f:\n",
    "        train_data = json.load(f)\n",
    "    new_list = []\n",
    "\n",
    "    for key, values in train_data.items():\n",
    "        new_dict = {}\n",
    "        new_dict['question_id'] = str(key)\n",
    "        new_dict['image_id'] = str(values['imageId'])\n",
    "        new_dict['question'] = values['question']\n",
    "        if values['answer'] in ans2label.keys():\n",
    "            new_dict['labels'] = [ans2label[values['answer']]]\n",
    "            new_dict['scores'] = [1.0]\n",
    "        else:\n",
    "            new_dict['labels'] = []\n",
    "            new_dict['scores'] = []\n",
    "\n",
    "        new_list.append(new_dict)\n",
    "    return new_list"
   ]
  },
  {
   "cell_type": "code",
   "execution_count": 47,
   "metadata": {},
   "outputs": [],
   "source": [
    "train = generate_dataset_lxmert('train_balanced_questions.json')\n",
    "with open(train_lxmert, 'w') as f:\n",
    "    json.dump(train, f, sort_keys=True, indent=4)\n",
    "\n",
    "valid = generate_dataset_lxmert('val_balanced_questions.json')\n",
    "with open(valid_lxmert, 'w') as f:\n",
    "    json.dump(valid, f, sort_keys=True, indent=4)\n",
    "    \n",
    "testdev = generate_dataset_lxmert('testdev_balanced_questions.json')\n",
    "with open(testdev_lxmert, 'w') as f:\n",
    "    json.dump(valid, f, sort_keys=True, indent=4)"
   ]
  },
  {
   "cell_type": "code",
   "execution_count": null,
   "metadata": {},
   "outputs": [],
   "source": []
  }
 ],
 "metadata": {
  "kernelspec": {
   "display_name": "Python (11737hw)",
   "language": "python",
   "name": "11737hw"
  },
  "language_info": {
   "codemirror_mode": {
    "name": "ipython",
    "version": 3
   },
   "file_extension": ".py",
   "mimetype": "text/x-python",
   "name": "python",
   "nbconvert_exporter": "python",
   "pygments_lexer": "ipython3",
   "version": "3.8.12"
  },
  "vscode": {
   "interpreter": {
    "hash": "31f2aee4e71d21fbe5cf8b01ff0e069b9275f58929596ceb00d14d90e3e16cd6"
   }
  }
 },
 "nbformat": 4,
 "nbformat_minor": 4
}
